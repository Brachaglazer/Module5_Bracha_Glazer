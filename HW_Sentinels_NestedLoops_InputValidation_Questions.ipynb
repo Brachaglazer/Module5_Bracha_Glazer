{
  "cells": [
    {
      "cell_type": "markdown",
      "metadata": {
        "id": "view-in-github",
        "colab_type": "text"
      },
      "source": [
        "<a href=\"https://colab.research.google.com/github/Brachaglazer/Module5_Bracha_Glazer/blob/main/HW_Sentinels_NestedLoops_InputValidation_Questions.ipynb\" target=\"_parent\"><img src=\"https://colab.research.google.com/assets/colab-badge.svg\" alt=\"Open In Colab\"/></a>"
      ]
    },
    {
      "cell_type": "markdown",
      "id": "90ac47ab",
      "metadata": {
        "id": "90ac47ab"
      },
      "source": [
        "# HW: Sentinels, Nested Loops, and Input Validation (≈70 minutes)\n",
        "\n",
        "**Instructions**\n",
        "- Work in order. Each task has a time estimate to help you pace yourself.\n",
        "- Do **not** use external libraries. Keep to standard Python.\n",
        "- Wherever you see `# TODO`, fill in the code.\n",
        "- Run the test cells (where provided) to sanity‑check your work.\n",
        "- If something is unclear, add a short comment explaining your reasoning.\n",
        "\n",
        "**Learning goals**\n",
        "- Use **sentinel-controlled while loops** to gather input until the user indicates “stop.”\n",
        "- Use **try/except** and loops to **validate inputs** and **reprompt**.\n",
        "- Use **nested loops** to build tables or to loop over characters in strings."
      ]
    },
    {
      "cell_type": "markdown",
      "id": "e1f28e9a",
      "metadata": {
        "id": "e1f28e9a"
      },
      "source": [
        "---\n",
        "## ⏱️ Estimated total time: ~70 minutes\n",
        "\n",
        "- **Task 1** – Sentinel stats (15 min)  \n",
        "- **Task 2** – Choice validator (8 min)  \n",
        "- **Task 3** – Multiplication grid (12 min)  \n",
        "- **Task 4** – Vowel counter across words (15 min)  \n",
        "- **Task 5** – Mini‑gradebook (20 min)"
      ]
    },
    {
      "cell_type": "markdown",
      "id": "983a92fb",
      "metadata": {
        "id": "983a92fb"
      },
      "source": [
        "---\n",
        "## Task 1 — Sentinel stats (≈15 min)\n",
        "\n",
        "Write a program that repeatedly asks the user for **integers between 0 and 100**.  \n",
        "Use a **sentinel**: the user types `done` (any case) to finish.\n",
        "\n",
        "**Requirements**\n",
        "- Ignore blank inputs (reprompt).\n",
        "- If the user types something that's not an integer in range, print a friendly message and reprompt.\n",
        "- When the user finishes, print: **count**, **sum**, **min**, **max**, and **mean** (to 2 decimals).  using f-string : {num:.2f}\n",
        "- If no valid numbers were entered, print `\"No data.\"`\n"
      ]
    },
    {
      "cell_type": "code",
      "execution_count": 11,
      "id": "bd66cac2",
      "metadata": {
        "id": "bd66cac2",
        "colab": {
          "base_uri": "https://localhost:8080/"
        },
        "outputId": "058b81ae-c428-442b-ce9b-f74170873099"
      },
      "outputs": [
        {
          "output_type": "stream",
          "name": "stdout",
          "text": [
            "Please enter an integer between o and 100, or 'done' to finish: 123\n",
            "Please enter a number within range.\n",
            "Please enter an integer between o and 100, or 'done' to finish: -3\n",
            "Please enter a number within range.\n",
            "Please enter an integer between o and 100, or 'done' to finish: f\n",
            "Please enter a valid integer.\n",
            "Please enter an integer between o and 100, or 'done' to finish: \n",
            "Please enter an integer between o and 100, or 'done' to finish: 12\n",
            "Please enter an integer between o and 100, or 'done' to finish: 45\n",
            "Please enter an integer between o and 100, or 'done' to finish: 3\n",
            "Please enter an integer between o and 100, or 'done' to finish: DONE\n",
            "count: 3 sum: 60 min: 3 max: 45 mean: 20.00\n"
          ]
        }
      ],
      "source": [
        "count = 0\n",
        "sum = 0\n",
        "min = None\n",
        "max = None\n",
        "\n",
        "while True:  # Loop runs until sentinel used\n",
        "    user_input = input(\"Please enter an integer between o and 100, or 'done' to finish: \")\n",
        "    if user_input.strip().lower() == \"done\":  # Exit loop when sentinel used.\n",
        "        break\n",
        "    elif user_input.strip() == \"\":  # Ignore blank inputs.\n",
        "        continue\n",
        "    try:\n",
        "        num = int(user_input)\n",
        "    except ValueError:\n",
        "        print(\"Please enter a valid integer.\")\n",
        "        continue\n",
        "    if num < 0 or num > 100:\n",
        "        print(\"Please enter a number within range.\")\n",
        "        continue\n",
        "    else:\n",
        "        count += 1\n",
        "        sum += num\n",
        "        mean = sum / count\n",
        "        if min == None:\n",
        "            min = num\n",
        "            max = num\n",
        "        elif min > num:\n",
        "            min = num\n",
        "        elif max < num:\n",
        "            max = num\n",
        "        continue\n",
        "\n",
        "if count == 0:  # If not valid data was entered.\n",
        "    print(\"No data.\")\n",
        "else:\n",
        "    print(f\"count: {count} sum: {sum} min: {min} max: {max} mean: {mean:.2f}\")"
      ]
    },
    {
      "cell_type": "markdown",
      "id": "03a0f72b",
      "metadata": {
        "id": "03a0f72b"
      },
      "source": [
        "---\n",
        "## Task 2 — Choice validator (≈8 min)\n",
        "\n",
        "Write a function `get_choice(prompt, options)` that:\n",
        "- Prints the prompt and the list of options.\n",
        "- Repeatedly asks for input until the user types **exactly** one of the options (case‑insensitive).\n",
        "- Returns the **originally cased** option from the `options` list.\n",
        "\n",
        "**Example**\n",
        "```text\n",
        "Your choice (red/blue/green): Blue\n",
        "# returns \"blue\" if options = [\"red\", \"blue\", \"green\"]\n",
        "```\n",
        "\n",
        "> Hints: Build `options_lower` once, then search it each time to find the index."
      ]
    },
    {
      "cell_type": "code",
      "execution_count": 38,
      "id": "ac138b14",
      "metadata": {
        "id": "ac138b14",
        "colab": {
          "base_uri": "https://localhost:8080/"
        },
        "outputId": "a2fcbde4-e816-426b-a61c-4e367d203c38"
      },
      "outputs": [
        {
          "output_type": "stream",
          "name": "stdout",
          "text": [
            "Pick a color ['red', 'blue', 'green']: RED\n",
            "You picked: red\n"
          ]
        }
      ],
      "source": [
        "def get_choice(prompt, options):\n",
        "    options_lower = [options]\n",
        "    while True:\n",
        "        choice = input(f\"{prompt} {options}: \").strip().lower()\n",
        "        color = 0\n",
        "        while color < len(options_lower):\n",
        "            if choice == options[color]:\n",
        "                return options[color]  # original casing\n",
        "            else:\n",
        "                color += 1\n",
        "\n",
        "        print(\"Not an option:\", options)\n",
        "\n",
        "\n",
        "if __name__ == \"__main__\":\n",
        "    color = get_choice(\"Pick a color\", [\"red\", \"blue\", \"green\"])\n",
        "    print(\"You picked:\", color)\n"
      ]
    },
    {
      "cell_type": "code",
      "execution_count": null,
      "id": "c11c898d",
      "metadata": {
        "id": "c11c898d"
      },
      "outputs": [],
      "source": [
        "# (Quick check) Manually try:\n",
        "# color = get_choice(\"Pick a color\", [\"red\",\"blue\",\"green\"])\n",
        "# print(\"You picked:\", color)"
      ]
    },
    {
      "cell_type": "markdown",
      "id": "003c976f",
      "metadata": {
        "id": "003c976f"
      },
      "source": [
        "---\n",
        "## Task 3 — Multiplication grid (≈12 min)\n",
        "\n",
        "Prompt the user for two **integers** `rows` and `cols` in the range **1..10**.  \n",
        "Validate both with try/except and reprompt until valid.\n",
        "\n",
        "Then print a **rows × cols** multiplication table, where each cell shows `r*c` (1‑indexed).  \n",
        "Format with spaces so columns line up **at least** for small sizes.\n",
        "\n",
        "**Example (rows=3, cols=4)**\n",
        "```\n",
        "    1  2  3  4\n",
        " 1: 1  2  3  4\n",
        " 2: 2  4  6  8\n",
        " 3: 3  6  9 12\n",
        "```"
      ]
    },
    {
      "cell_type": "code",
      "execution_count": 64,
      "id": "db519675",
      "metadata": {
        "id": "db519675",
        "colab": {
          "base_uri": "https://localhost:8080/"
        },
        "outputId": "133bd420-a269-40d9-fda6-501b570fc479"
      },
      "outputs": [
        {
          "output_type": "stream",
          "name": "stdout",
          "text": [
            "How many rows? (1-10) 3\n",
            "How many columns? (1-10) 3\n",
            "  1   2   3 \n",
            "  2   4   6 \n",
            "  3   6   9 \n"
          ]
        }
      ],
      "source": [
        "#Find out what indexed is, can I line up to two decimal spaces?\n",
        "while True:\n",
        "    try:\n",
        "        rows = int(input(\"How many rows? (1-10) \"))\n",
        "        cols = int(input(\"How many columns? (1-10) \"))\n",
        "    except ValueError:\n",
        "        print(\"Please enter a valid integer.\")\n",
        "        continue\n",
        "    if rows < 0 or rows > 10:\n",
        "        print(\"Please enter a number within range 1-10: \")\n",
        "        continue\n",
        "    elif cols < 0 or cols > 10:\n",
        "        print(\"Please enter a number within range 1-10: \")\n",
        "        continue\n",
        "    else:\n",
        "        break\n",
        "for r in range(1, rows + 1):\n",
        "    for c in range(1, cols + 1):\n",
        "        print(f\"{r*c:3}\", end=\" \")\n",
        "    print()"
      ]
    },
    {
      "cell_type": "markdown",
      "id": "416bab28",
      "metadata": {
        "id": "416bab28"
      },
      "source": [
        "---\n",
        "## Task 4 — Vowel counter across words (≈15 min)\n",
        "\n",
        "Use a **sentinel** loop to read words until the user types `done`.  \n",
        "For each word, use a **nested loop** (loop over characters) to count **vowels** `a e i o u` (case‑insensitive).\n",
        "\n",
        "**Output**\n",
        "- After each word, print `\"{word}\" has {k} vowel(s)`.\n",
        "- At the end, print the **total number of vowels** across all words.\n",
        "\n",
        "> Hints: A string is looped over the way a list is.  Use `for ch in word:` to examine each character in the string; compare `ch.lower()` against a set like `{'a','e','i','o','u'}`."
      ]
    },
    {
      "cell_type": "code",
      "execution_count": 74,
      "id": "c7a96d30",
      "metadata": {
        "id": "c7a96d30",
        "colab": {
          "base_uri": "https://localhost:8080/"
        },
        "outputId": "a68a9f7d-5598-4930-b9ec-d561049e2c9a"
      },
      "outputs": [
        {
          "output_type": "stream",
          "name": "stdout",
          "text": [
            "Please enter a word or 'done' to finish: hello\n",
            "hello has 2 vowel(s)\n",
            "Please enter a word or 'done' to finish: world\n",
            "world has 1 vowel(s)\n",
            "Please enter a word or 'done' to finish: done\n",
            "Total number of vowels: 3\n"
          ]
        }
      ],
      "source": [
        "vowels = {'a','e','i','o','u'}\n",
        "vowels_set = set(vowels)\n",
        "total = 0  # Out of loop so will calculate for all words.\n",
        "\n",
        "while True:  # Loop runs until sentinel entered.\n",
        "    word = input(\"Please enter a word or 'done' to finish: \").strip().lower()\n",
        "    if word == \"done\":\n",
        "        break\n",
        "    else:\n",
        "        k = 0  # Within loop so will calculate per word.\n",
        "        for ch in word:  # Check each letter in the word entered.\n",
        "            if ch in vowels_set:  # If letter is in the vowel list.\n",
        "                k += 1\n",
        "                total += 1\n",
        "        print(f\"{word} has {k} vowel(s)\")  # Within loop so will print for each word.\n",
        "print(f\"Total number of vowels: {total}\")  # Out of loop so will print when sentinel entered."
      ]
    },
    {
      "cell_type": "markdown",
      "id": "98dd5563",
      "metadata": {
        "id": "98dd5563"
      },
      "source": [
        "---\n",
        "## Task 5 — Mini‑gradebook (≈20 min)\n",
        "\n",
        "Build a tiny gradebook using **both** a sentinel loop and a nested loop.\n",
        "\n",
        "**Requirements**\n",
        "1. Repeatedly ask for a **student name** until the user types `done` (sentinel).  \n",
        "   - Ignore blank names.\n",
        "2. For each student, read exactly **3 scores** (0..100, integers).  \n",
        "   - Use input validation with try/except; reprompt on bad input.\n",
        "3. Store each student's average in a dictionary `grades[name] = avg`.\n",
        "4. After input ends, print a **simple report** sorted by name:\n",
        "   ```\n",
        "   Alice : 88.00\n",
        "   Bob   : 92.33\n",
        "   ```\n",
        "\n",
        "**Stretch (optional)**  \n",
        "- Also print the **class average**."
      ]
    },
    {
      "cell_type": "code",
      "execution_count": 82,
      "id": "b4c87c4c",
      "metadata": {
        "id": "b4c87c4c",
        "colab": {
          "base_uri": "https://localhost:8080/"
        },
        "outputId": "4182c53d-4327-4db9-ef15-ad32a95666dc"
      },
      "outputs": [
        {
          "output_type": "stream",
          "name": "stdout",
          "text": [
            "Please enter a student's name or 'done' to finish: gjs\n",
            "Please enter a score (0-100): 56\n",
            "Please enter a score (0-100): 56\n",
            "Please enter a score (0-100): 56\n",
            "Please enter a student's name or 'done' to finish: tyyh\n",
            "Please enter a score (0-100): 55\n",
            "Please enter a score (0-100): 55\n",
            "Please enter a score (0-100): 55\n",
            "Please enter a student's name or 'done' to finish: asd\n",
            "Please enter a score (0-100): 5\n",
            "Please enter a score (0-100): 5\n",
            "Please enter a score (0-100): 5\n",
            "Please enter a student's name or 'done' to finish: done\n",
            "['asd', 'gjs', 'tyyh']\n"
          ]
        }
      ],
      "source": [
        "# I am trying to figure out how to print the dictionary sorted and each on its own line etc., print avg to 2 decimal spaces and\n",
        "book = {\n",
        "}\n",
        "\n",
        "while True:\n",
        "    name = input(\"Please enter a student's name or 'done' to finish: \")\n",
        "    if name.strip() == \"\":\n",
        "        continue\n",
        "    elif name.strip().lower() == 'done':\n",
        "        break\n",
        "    time = 0\n",
        "    sum = 0\n",
        "    while time < 3:\n",
        "        try:\n",
        "            score = int(input(\"Please enter a score (0-100): \"))\n",
        "        except ValueError:\n",
        "            print(\"Please enter a valid integer.\")\n",
        "            continue\n",
        "        if score < 0 or score > 100:\n",
        "            print(\"Out of range.\")\n",
        "            continue\n",
        "        else:\n",
        "            time += 1\n",
        "            sum += score\n",
        "    avg = sum / time\n",
        "    book[name] = (f\"{avg:.2f}\")\n",
        "print(sorted(book))"
      ]
    },
    {
      "cell_type": "markdown",
      "id": "0d1a8cf7",
      "metadata": {
        "id": "0d1a8cf7"
      },
      "source": [
        "---\n",
        "### ✅ Submission checklist\n",
        "\n",
        "- [ ] Notebook runs top‑to‑bottom without errors\n",
        "- [ ] Brief comments added where logic might be unclear\n",
        "- [ ] Push this notebook to your GitHub as part of your assignment submission, submit link to Canvas"
      ]
    }
  ],
  "metadata": {
    "colab": {
      "provenance": [],
      "include_colab_link": true
    },
    "language_info": {
      "name": "python"
    },
    "kernelspec": {
      "name": "python3",
      "display_name": "Python 3"
    }
  },
  "nbformat": 4,
  "nbformat_minor": 5
}